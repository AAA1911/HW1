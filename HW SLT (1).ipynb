{
 "cells": [
  {
   "cell_type": "markdown",
   "metadata": {},
   "source": [
    "# Homework on Statistical Learning Theory"
   ]
  },
  {
   "cell_type": "markdown",
   "metadata": {},
   "source": [
    "<b>Deadline:</b> 24.12.2018, 9 a.m. (there would be no soft deadline)\n",
    "\n",
    "<b>How to hang in?</b> You need to put your Jupyter Notebook to GitHub repo and send link in Telegram to <b>@CroCode</b>"
   ]
  },
  {
   "cell_type": "code",
   "execution_count": null,
   "metadata": {
    "collapsed": true
   },
   "outputs": [],
   "source": [
    "Katya Bulycheva"
   ]
  },
  {
   "cell_type": "markdown",
   "metadata": {},
   "source": [
    "### Block №1. Combinatorics and Probability Theory\n",
    "\n",
    "You can use LaTeX expressions in order to provide formulas: https://en.wikibooks.org/wiki/LaTeX"
   ]
  },
  {
   "cell_type": "markdown",
   "metadata": {},
   "source": [
    "1) In how many ways can the letters of the word PROBABILITY be rearranged such that all I’s and P’s appear in the middle?\n",
    "\n",
    "<b>Total:</b> 1 point"
   ]
  },
  {
   "cell_type": "code",
   "execution_count": 1,
   "metadata": {},
   "outputs": [
    {
     "ename": "SyntaxError",
     "evalue": "invalid syntax (<ipython-input-1-120193a3ef0a>, line 1)",
     "output_type": "error",
     "traceback": [
      "\u001b[0;36m  File \u001b[0;32m\"<ipython-input-1-120193a3ef0a>\"\u001b[0;36m, line \u001b[0;32m1\u001b[0m\n\u001b[0;31m    So, we have 11 letters and 3 places in the middle and 8 places left.\u001b[0m\n\u001b[0m              ^\u001b[0m\n\u001b[0;31mSyntaxError\u001b[0m\u001b[0;31m:\u001b[0m invalid syntax\n"
     ]
    }
   ],
   "source": [
    "So, we have 11 letters and 3 places in the middle and 8 places left.\n",
    "PROB---LITY\n",
    "Firsty, I will count the humber of all interations outside of the middle. \n",
    "That is 8! and we alson should not to forget that we have 2 letters B, so we should divide by 2!.\n",
    "Secondly, I will count the number of iterations inside those 3 places in the middle. We have 3 places and 2 same letters, so the number is 3!/2!.\n",
    "The final formula: 8!3!/2!2!=60480."
   ]
  },
  {
   "cell_type": "markdown",
   "metadata": {},
   "source": [
    "2) The probability of having defect (at least 1 defective product) in batch of 100 products is 63.2%. Find the probability of having less than 3 defective products in such a batch.\n",
    "\n",
    "<i>Hint:</i> use idea of Poisson distribution (https://en.wikipedia.org/wiki/Poisson_distribution)\n",
    "\n",
    "<b>Total:</b> 1.5 points"
   ]
  },
  {
   "cell_type": "code",
   "execution_count": null,
   "metadata": {},
   "outputs": [],
   "source": [
    "Let us assume that the probability of the defect is p.\n",
    "The probability of 1 or more defects in 100 products = 1-(1-p)^100 = 0.632\n",
    "=> p=0.0099\n",
    "=> E(number of defect products) = 100*p=0.99 = lambda"
   ]
  },
  {
   "cell_type": "code",
   "execution_count": 2,
   "metadata": {},
   "outputs": [],
   "source": [
    "import math"
   ]
  },
  {
   "cell_type": "code",
   "execution_count": 10,
   "metadata": {},
   "outputs": [
    {
     "data": {
      "text/plain": [
       "0.9215287725692245"
      ]
     },
     "execution_count": 10,
     "metadata": {},
     "output_type": "execute_result"
    }
   ],
   "source": [
    "math.exp(-0.99) + 0.99*math.exp(-0.99) + (0.99**2)*math.exp(-0.99)/2"
   ]
  },
  {
   "cell_type": "markdown",
   "metadata": {},
   "source": [
    "### Block №2. Data Structures and Algorithms\n",
    "\n",
    "<b><i>NB!</i></b> Here you need to provide solution having minimal memory and runtime complexity in terms of Big O notation."
   ]
  },
  {
   "cell_type": "markdown",
   "metadata": {},
   "source": [
    "3) Suggest an algorithm that resets all elements in the column <i>i</i> and the row <i>j</i> of the matrix M to zeros if the element in the <i>(i, j)</i> cell is zero. Provide solution having minimal memory and runtime complexity in terms of Big O notation.\n",
    "\n",
    "<b>Input:</b> matrix M\n",
    "\n",
    "<b>Output:</b> modified according to condition matrix M\n",
    "\n",
    "<b>Total:</b> 2 points"
   ]
  },
  {
   "cell_type": "code",
   "execution_count": 7,
   "metadata": {},
   "outputs": [],
   "source": [
    "import numpy as np"
   ]
  },
  {
   "cell_type": "code",
   "execution_count": 27,
   "metadata": {},
   "outputs": [],
   "source": [
    "\n",
    "def resetto0(X): \n",
    "    ncols = X.shape[0]\n",
    "    nrows = X.shape[1]\n",
    "    X_new = X.copy()\n",
    "    \n",
    "    for i in range(ncols) : \n",
    "        for j in range(nrows) : \n",
    "            if X[i,j] == 0 : \n",
    "                X_new[i,:] = 0\n",
    "                X_new[:,j] = 0\n",
    "              \n",
    "    \n",
    "    return X_new\n",
    "                    \n",
    "\n",
    "          \n",
    "# COMPLEXITY - O(R*C)\n"
   ]
  },
  {
   "cell_type": "code",
   "execution_count": 28,
   "metadata": {},
   "outputs": [
    {
     "name": "stdout",
     "output_type": "stream",
     "text": [
      "[[ 1  2  3  4]\n",
      " [ 5  0  6  7]\n",
      " [ 8  9 10 11]\n",
      " [12  0 13  0]\n",
      " [14 15 16 17]]\n"
     ]
    },
    {
     "data": {
      "text/plain": [
       "matrix([[ 1,  0,  3,  0],\n",
       "        [ 0,  0,  0,  0],\n",
       "        [ 8,  0, 10,  0],\n",
       "        [ 0,  0,  0,  0],\n",
       "        [14,  0, 16,  0]])"
      ]
     },
     "execution_count": 28,
     "metadata": {},
     "output_type": "execute_result"
    }
   ],
   "source": [
    "M = np.mat ([ [1, 2, 3, 4], \n",
    "                [5, 0, 6, 7], \n",
    "                 [8, 9, 10, 11],\n",
    "                 [12, 0, 13, 0],23\n",
    "                 [14, 15, 16, 17]])\n",
    "print(M)\n",
    "resetto0(M)"
   ]
  },
  {
   "cell_type": "markdown",
   "metadata": {},
   "source": [
    "4) Imagine you have a square picture, each pixel of which can be black or white (you can interpret it as binary matrix). Develop an algorithm for finding the maximum sub-square consisting of only black pixels.\n",
    "\n",
    "<b>Input:</b> binary matrix M (contains only 0-1 elements)\n",
    "\n",
    "<b>Output:</b> <i>((a1, b1),(a2, b2))</i> where <i>(a1, b1)</i> and <i>(a2, b2)</i> stay for coordinates of upper-left and lower-right sub-square corners respectively\n",
    "\n",
    "<b>Total:</b> 2.5 points"
   ]
  },
  {
   "cell_type": "code",
   "execution_count": 95,
   "metadata": {},
   "outputs": [
    {
     "data": {
      "text/plain": [
       "matrix([], shape=(0, 0), dtype=int64)"
      ]
     },
     "execution_count": 95,
     "metadata": {},
     "output_type": "execute_result"
    }
   ],
   "source": [
    "M[100500:100502,100500:100503]"
   ]
  },
  {
   "cell_type": "code",
   "execution_count": 69,
   "metadata": {},
   "outputs": [],
   "source": [
    "def check0(X):\n",
    "    if len(np.where(X == 0)[0]) == 0:\n",
    "        return False\n",
    "    else: return True"
   ]
  },
  {
   "cell_type": "code",
   "execution_count": 96,
   "metadata": {},
   "outputs": [],
   "source": [
    "def find_n_square(X, n):\n",
    "    ncols = X.shape[0]\n",
    "    nrows = X.shape[1]\n",
    "    for i in range(ncols-n) : \n",
    "        for j in range(nrows-n) :\n",
    "            if check0(X[i:i+n,j:j+n]) == False: \n",
    "                return [[i, j], [i+n, j+n]]\n",
    "    return False"
   ]
  },
  {
   "cell_type": "code",
   "execution_count": 100,
   "metadata": {},
   "outputs": [],
   "source": [
    "def find_max_sqare(X):\n",
    "    n = 0\n",
    "    found = True\n",
    "    lim = min(X.shape)\n",
    "    coord = []\n",
    "    while found != False and n < lim:\n",
    "        n += 1\n",
    "        s = find_n_square(X, n)\n",
    "        if s != False:\n",
    "            coord = s\n",
    "        else: found = s\n",
    "    return coord"
   ]
  },
  {
   "cell_type": "code",
   "execution_count": 210,
   "metadata": {},
   "outputs": [
    {
     "name": "stdout",
     "output_type": "stream",
     "text": [
      "answer (in numpy coordinates):  [[2, 0], [4, 2]]\n",
      "[[1 1 1 1]\n",
      " [1 0 1 1]\n",
      " [1 1 1 1]\n",
      " [1 1 0 1]\n",
      " [1 1 1 1]]\n",
      "[[1 1 1 1]\n",
      " [1 0 1 1]\n",
      " [9 9 1 1]\n",
      " [9 9 0 1]\n",
      " [1 1 1 1]]\n"
     ]
    }
   ],
   "source": [
    "M = np.mat ([ [1, 1, 1, 1], \n",
    "                [1, 0, 1, 1], \n",
    "                 [1, 1, 1, 1],\n",
    "                 [1, 1, 0, 1],\n",
    "                 [1, 1, 1, 1]])\n",
    "print('answer (in numpy coordinates): ', find_max_sqare(M) )\n",
    "print(M)\n",
    "\n",
    "l = find_max_sqare(M)\n",
    "a1,a2,a3,a4 = l[0][0],l[1][0], l[0][1],l[1][1]\n",
    "M[a1:a2, a3:a4] = 9\n",
    "print(M)"
   ]
  },
  {
   "cell_type": "code",
   "execution_count": null,
   "metadata": {
    "collapsed": true
   },
   "outputs": [],
   "source": [
    "# put your code with comments here\n",
    "\n",
    "# Memory complexity: ...\n",
    "# Runtime complexity: ..."
   ]
  },
  {
   "cell_type": "markdown",
   "metadata": {},
   "source": [
    "5) Imagine series of integer numbers having only 3, 5 or 7 of some power in their factorization (i.e. 1, 3, 5, 7, 9, 15 etc.). Given k you're asked to return k-th number in this series.\n",
    "\n",
    "<i>Helpful link</i>: https://en.wikipedia.org/wiki/Fundamental_theorem_of_arithmetic\n",
    "\n",
    "<b>Input:</b> integer number k\n",
    "\n",
    "<b>Output:</b> k-th number of series\n",
    "\n",
    "<b>Total:</b> 3 points"
   ]
  },
  {
   "cell_type": "code",
   "execution_count": 145,
   "metadata": {},
   "outputs": [],
   "source": [
    "def factors(n):\n",
    "  all_factors = []\n",
    "  i=2\n",
    "  while n>1:\n",
    "    if n%i==0:\n",
    "      all_factors.append(i)\n",
    "      n=n/i\n",
    "      i+=-1\n",
    "    i+=1\n",
    "  unique_factors = list(set(all_factors))\n",
    "  return unique_factors"
   ]
  },
  {
   "cell_type": "code",
   "execution_count": 178,
   "metadata": {},
   "outputs": [],
   "source": [
    "def kfind(k):\n",
    "    a = 1\n",
    "    counter = 1\n",
    "    while counter < k:\n",
    "        a+=2 #проверяем только нечетные\n",
    "        if all(elem in [3,5,7] for elem in factors(a)) == True:\n",
    "            counter +=1\n",
    "    return a"
   ]
  },
  {
   "cell_type": "code",
   "execution_count": 179,
   "metadata": {},
   "outputs": [
    {
     "data": {
      "text/plain": [
       "525"
      ]
     },
     "execution_count": 179,
     "metadata": {},
     "output_type": "execute_result"
    }
   ],
   "source": [
    "kfind(30)"
   ]
  },
  {
   "cell_type": "code",
   "execution_count": null,
   "metadata": {
    "collapsed": true
   },
   "outputs": [],
   "source": [
    "# put your code with comments here\n",
    "\n",
    "# Memory complexity: ...\n",
    "# Runtime complexity: ..."
   ]
  }
 ],
 "metadata": {
  "kernelspec": {
   "display_name": "Python 3",
   "language": "python",
   "name": "python3"
  },
  "language_info": {
   "codemirror_mode": {
    "name": "ipython",
    "version": 3
   },
   "file_extension": ".py",
   "mimetype": "text/x-python",
   "name": "python",
   "nbconvert_exporter": "python",
   "pygments_lexer": "ipython3",
   "version": "3.6.4"
  }
 },
 "nbformat": 4,
 "nbformat_minor": 2
}
